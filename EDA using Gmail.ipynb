{
 "cells": [
  {
   "cell_type": "code",
   "execution_count": 1,
   "metadata": {},
   "outputs": [
    {
     "name": "stdout",
     "output_type": "stream",
     "text": [
      "Collecting mailbox\n",
      "  Downloading mailbox-0.4.tar.gz (4.1 kB)\n",
      "Building wheels for collected packages: mailbox\n",
      "  Building wheel for mailbox (setup.py): started\n",
      "  Building wheel for mailbox (setup.py): finished with status 'done'\n",
      "  Created wheel for mailbox: filename=mailbox-0.4-py3-none-any.whl size=4689 sha256=c543dcefca25445f8a45776f2af0ab6690309c6cc57ed12aeb3caa782eaa2dfc\n",
      "  Stored in directory: c:\\users\\victor joy\\appdata\\local\\pip\\cache\\wheels\\7f\\37\\e6\\4b4f62ac440188b71373d433de47b225b1cc81cf92ee613709\n",
      "Successfully built mailbox\n",
      "Installing collected packages: mailbox\n",
      "Successfully installed mailbox-0.4\n"
     ]
    }
   ],
   "source": [
    "!pip install mailbox"
   ]
  },
  {
   "cell_type": "code",
   "execution_count": 3,
   "metadata": {},
   "outputs": [],
   "source": [
    "import numpy as np\n",
    "import pandas as pd\n",
    "import matplotlib.pyplot as plt\n",
    "import mailbox"
   ]
  },
  {
   "cell_type": "code",
   "execution_count": 5,
   "metadata": {},
   "outputs": [
    {
     "data": {
      "text/plain": [
       "<mailbox.mbox at 0x1a3bfdc2df0>"
      ]
     },
     "execution_count": 5,
     "metadata": {},
     "output_type": "execute_result"
    }
   ],
   "source": [
    "mboxfile = r\"C:\\Users\\VICTOR JOY\\Downloads\\takeout-20201104T005831Z-001\\Takeout\\Mail\\All mail Including Spam and Trash.mbox\"\n",
    "mbox = mailbox.mbox(mboxfile)\n",
    "mbox"
   ]
  },
  {
   "cell_type": "code",
   "execution_count": 8,
   "metadata": {},
   "outputs": [
    {
     "name": "stdout",
     "output_type": "stream",
     "text": [
      "X-GM-THRID\n",
      "X-Gmail-Labels\n",
      "Delivered-To\n",
      "Received\n",
      "X-Google-Smtp-Source\n",
      "X-Received\n",
      "ARC-Seal\n",
      "ARC-Message-Signature\n",
      "ARC-Authentication-Results\n",
      "Return-Path\n",
      "Received\n",
      "Received-SPF\n",
      "Authentication-Results\n",
      "DKIM-Signature\n",
      "To\n",
      "From\n",
      "Reply-To\n",
      "Subject\n",
      "Message-ID\n",
      "List-Unsubscribe\n",
      "Feedback-ID\n",
      "MIME-Version\n",
      "Content-Type\n",
      "Date\n"
     ]
    }
   ],
   "source": [
    "for key in mbox[0].keys():\n",
    "    print(key)"
   ]
  },
  {
   "cell_type": "code",
   "execution_count": 11,
   "metadata": {},
   "outputs": [],
   "source": [
    "import csv  "
   ]
  },
  {
   "cell_type": "code",
   "execution_count": 19,
   "metadata": {},
   "outputs": [],
   "source": [
    "with open('mailbox.csv', 'w', encoding=\"utf-8\") as outputfile:\n",
    "  writer = csv.writer(outputfile)\n",
    "  writer.writerow(['subject','from','date','to','label','thread'])\n",
    "    \n",
    "  for message in mbox:\n",
    "    writer.writerow([message['subject'], message['from'],  message['date'], message['to'],  message['X-Gmail-Labels'], message['X-GM-THRID']])"
   ]
  },
  {
   "cell_type": "code",
   "execution_count": 20,
   "metadata": {},
   "outputs": [],
   "source": [
    "dfs = pd.read_csv('mailbox.csv', names=['subject', 'from', 'date', 'to', 'label', 'thread'])"
   ]
  },
  {
   "cell_type": "code",
   "execution_count": 21,
   "metadata": {},
   "outputs": [
    {
     "data": {
      "text/plain": [
       "subject    object\n",
       "from       object\n",
       "date       object\n",
       "to         object\n",
       "label      object\n",
       "thread     object\n",
       "dtype: object"
      ]
     },
     "execution_count": 21,
     "metadata": {},
     "output_type": "execute_result"
    }
   ],
   "source": [
    "dfs.dtypes"
   ]
  },
  {
   "cell_type": "code",
   "execution_count": null,
   "metadata": {},
   "outputs": [],
   "source": []
  }
 ],
 "metadata": {
  "kernelspec": {
   "display_name": "Python 3",
   "language": "python",
   "name": "python3"
  },
  "language_info": {
   "codemirror_mode": {
    "name": "ipython",
    "version": 3
   },
   "file_extension": ".py",
   "mimetype": "text/x-python",
   "name": "python",
   "nbconvert_exporter": "python",
   "pygments_lexer": "ipython3",
   "version": "3.8.5"
  }
 },
 "nbformat": 4,
 "nbformat_minor": 4
}
